{
 "cells": [
  {
   "cell_type": "markdown",
   "id": "0ee20326",
   "metadata": {},
   "source": [
    "## Exploratory Data Analysis on Corona Virus 2019 Dataset."
   ]
  },
  {
   "cell_type": "markdown",
   "id": "73c01607",
   "metadata": {},
   "source": [
    "<img src=\"fusion-medical-animation-EAgGqOiDDMg-unsplash.jpg\" width=\"500\" height=\"500\">"
   ]
  },
  {
   "cell_type": "markdown",
   "id": "8432572e",
   "metadata": {},
   "source": [
    "All work is on my own. This is an EDA project for my portfolio\n",
    "Contains a vast number of anonymized patient-related information including pre-conditions. \n",
    "The raw dataset consists of 21 different features and 1,048,576 unique patients. \n",
    "In the Boolean features, 1 means \"yes\" and 2 means \"no\". values as 97 and 99 are missing data.\n",
    "\n",
    "Updated - 28-01-2023"
   ]
  },
  {
   "cell_type": "markdown",
   "id": "29992945",
   "metadata": {},
   "source": [
    "GOAL - \n",
    "\n",
    "1. To perform an EDA.\n",
    "2. Determine the impact various features."
   ]
  },
  {
   "cell_type": "markdown",
   "id": "38ff3df3",
   "metadata": {},
   "source": [
    "details of the features in dataset.\n",
    "- sex: 1 for female and 2 for male.\n",
    "- age: of the patient.\n",
    "- classification: covid test findings. Values 1-3 mean that the patient was diagnosed with covid in different\n",
    "degrees. 4 or higher means that the patient is not a carrier of covid or that the test is inconclusive.\n",
    "- patient type: type of care the patient received in the unit. 1 for returned home and 2 for hospitalization.\n",
    "- pneumonia: whether the patient already have air sacs inflammation or not.\n",
    "- pregnancy: whether the patient is pregnant or not.\n",
    "- diabetes: whether the patient has diabetes or not.\n",
    "- copd: Indicates whether the patient has Chronic obstructive pulmonary disease or not.\n",
    "- asthma: whether the patient has asthma or not.\n",
    "- inmsupr: whether the patient is immunosuppressed or not.\n",
    "- hypertension: whether the patient has hypertension or not.\n",
    "- cardiovascular: whether the patient has heart or blood vessels related disease.\n",
    "- renal chronic: whether the patient has chronic renal disease or not.\n",
    "- other disease: whether the patient has other disease or not.\n",
    "- obesity: whether the patient is obese or not.\n",
    "- tobacco: whether the patient is a tobacco user.\n",
    "- usmr: Indicates whether the patient treated medical units of the first, second or third level.\n",
    "- medical unit: type of institution of the National Health System that provided the care.\n",
    "- intubed: whether the patient was connected to the ventilator.\n",
    "- icu: Indicates whether the patient had been admitted to an Intensive Care Unit.\n",
    "- date died: If the patient died indicate the date of death, and 9999-99-99 otherwise."
   ]
  },
  {
   "cell_type": "code",
   "execution_count": 1,
   "id": "a8eb8b01",
   "metadata": {},
   "outputs": [],
   "source": [
    "# Importing basic libraries for EDA. \n",
    "import pandas as pd\n",
    "import numpy as np\n",
    "import matplotlib.pyplot as plt\n",
    "import seaborn as sns\n",
    "%matplotlib inline\n",
    "\n",
    "import warnings\n",
    "warnings.filterwarnings('ignore')"
   ]
  },
  {
   "cell_type": "code",
   "execution_count": 2,
   "id": "65c8ec42",
   "metadata": {},
   "outputs": [],
   "source": [
    "# importing the dataset.\n",
    "covid = pd.read_csv('Covid Data.csv')"
   ]
  },
  {
   "cell_type": "code",
   "execution_count": 3,
   "id": "12a4bb01",
   "metadata": {},
   "outputs": [
    {
     "data": {
      "text/html": [
       "<div>\n",
       "<style scoped>\n",
       "    .dataframe tbody tr th:only-of-type {\n",
       "        vertical-align: middle;\n",
       "    }\n",
       "\n",
       "    .dataframe tbody tr th {\n",
       "        vertical-align: top;\n",
       "    }\n",
       "\n",
       "    .dataframe thead th {\n",
       "        text-align: right;\n",
       "    }\n",
       "</style>\n",
       "<table border=\"1\" class=\"dataframe\">\n",
       "  <thead>\n",
       "    <tr style=\"text-align: right;\">\n",
       "      <th></th>\n",
       "      <th>USMER</th>\n",
       "      <th>MEDICAL_UNIT</th>\n",
       "      <th>SEX</th>\n",
       "      <th>PATIENT_TYPE</th>\n",
       "      <th>DATE_DIED</th>\n",
       "      <th>INTUBED</th>\n",
       "      <th>PNEUMONIA</th>\n",
       "      <th>AGE</th>\n",
       "      <th>PREGNANT</th>\n",
       "      <th>DIABETES</th>\n",
       "      <th>...</th>\n",
       "      <th>ASTHMA</th>\n",
       "      <th>INMSUPR</th>\n",
       "      <th>HIPERTENSION</th>\n",
       "      <th>OTHER_DISEASE</th>\n",
       "      <th>CARDIOVASCULAR</th>\n",
       "      <th>OBESITY</th>\n",
       "      <th>RENAL_CHRONIC</th>\n",
       "      <th>TOBACCO</th>\n",
       "      <th>CLASIFFICATION_FINAL</th>\n",
       "      <th>ICU</th>\n",
       "    </tr>\n",
       "  </thead>\n",
       "  <tbody>\n",
       "    <tr>\n",
       "      <th>0</th>\n",
       "      <td>2</td>\n",
       "      <td>1</td>\n",
       "      <td>1</td>\n",
       "      <td>1</td>\n",
       "      <td>03-05-2020</td>\n",
       "      <td>97</td>\n",
       "      <td>1</td>\n",
       "      <td>65</td>\n",
       "      <td>2</td>\n",
       "      <td>2</td>\n",
       "      <td>...</td>\n",
       "      <td>2</td>\n",
       "      <td>2</td>\n",
       "      <td>1</td>\n",
       "      <td>2</td>\n",
       "      <td>2</td>\n",
       "      <td>2</td>\n",
       "      <td>2</td>\n",
       "      <td>2</td>\n",
       "      <td>3</td>\n",
       "      <td>97</td>\n",
       "    </tr>\n",
       "    <tr>\n",
       "      <th>1</th>\n",
       "      <td>2</td>\n",
       "      <td>1</td>\n",
       "      <td>2</td>\n",
       "      <td>1</td>\n",
       "      <td>03-06-2020</td>\n",
       "      <td>97</td>\n",
       "      <td>1</td>\n",
       "      <td>72</td>\n",
       "      <td>97</td>\n",
       "      <td>2</td>\n",
       "      <td>...</td>\n",
       "      <td>2</td>\n",
       "      <td>2</td>\n",
       "      <td>1</td>\n",
       "      <td>2</td>\n",
       "      <td>2</td>\n",
       "      <td>1</td>\n",
       "      <td>1</td>\n",
       "      <td>2</td>\n",
       "      <td>5</td>\n",
       "      <td>97</td>\n",
       "    </tr>\n",
       "    <tr>\n",
       "      <th>2</th>\n",
       "      <td>2</td>\n",
       "      <td>1</td>\n",
       "      <td>2</td>\n",
       "      <td>2</td>\n",
       "      <td>09-06-2020</td>\n",
       "      <td>1</td>\n",
       "      <td>2</td>\n",
       "      <td>55</td>\n",
       "      <td>97</td>\n",
       "      <td>1</td>\n",
       "      <td>...</td>\n",
       "      <td>2</td>\n",
       "      <td>2</td>\n",
       "      <td>2</td>\n",
       "      <td>2</td>\n",
       "      <td>2</td>\n",
       "      <td>2</td>\n",
       "      <td>2</td>\n",
       "      <td>2</td>\n",
       "      <td>3</td>\n",
       "      <td>2</td>\n",
       "    </tr>\n",
       "    <tr>\n",
       "      <th>3</th>\n",
       "      <td>2</td>\n",
       "      <td>1</td>\n",
       "      <td>1</td>\n",
       "      <td>1</td>\n",
       "      <td>12-06-2020</td>\n",
       "      <td>97</td>\n",
       "      <td>2</td>\n",
       "      <td>53</td>\n",
       "      <td>2</td>\n",
       "      <td>2</td>\n",
       "      <td>...</td>\n",
       "      <td>2</td>\n",
       "      <td>2</td>\n",
       "      <td>2</td>\n",
       "      <td>2</td>\n",
       "      <td>2</td>\n",
       "      <td>2</td>\n",
       "      <td>2</td>\n",
       "      <td>2</td>\n",
       "      <td>7</td>\n",
       "      <td>97</td>\n",
       "    </tr>\n",
       "    <tr>\n",
       "      <th>4</th>\n",
       "      <td>2</td>\n",
       "      <td>1</td>\n",
       "      <td>2</td>\n",
       "      <td>1</td>\n",
       "      <td>21-06-2020</td>\n",
       "      <td>97</td>\n",
       "      <td>2</td>\n",
       "      <td>68</td>\n",
       "      <td>97</td>\n",
       "      <td>1</td>\n",
       "      <td>...</td>\n",
       "      <td>2</td>\n",
       "      <td>2</td>\n",
       "      <td>1</td>\n",
       "      <td>2</td>\n",
       "      <td>2</td>\n",
       "      <td>2</td>\n",
       "      <td>2</td>\n",
       "      <td>2</td>\n",
       "      <td>3</td>\n",
       "      <td>97</td>\n",
       "    </tr>\n",
       "  </tbody>\n",
       "</table>\n",
       "<p>5 rows × 21 columns</p>\n",
       "</div>"
      ],
      "text/plain": [
       "   USMER  MEDICAL_UNIT  SEX  PATIENT_TYPE   DATE_DIED  INTUBED  PNEUMONIA  \\\n",
       "0      2             1    1             1  03-05-2020       97          1   \n",
       "1      2             1    2             1  03-06-2020       97          1   \n",
       "2      2             1    2             2  09-06-2020        1          2   \n",
       "3      2             1    1             1  12-06-2020       97          2   \n",
       "4      2             1    2             1  21-06-2020       97          2   \n",
       "\n",
       "   AGE  PREGNANT  DIABETES  ...  ASTHMA  INMSUPR  HIPERTENSION  OTHER_DISEASE  \\\n",
       "0   65         2         2  ...       2        2             1              2   \n",
       "1   72        97         2  ...       2        2             1              2   \n",
       "2   55        97         1  ...       2        2             2              2   \n",
       "3   53         2         2  ...       2        2             2              2   \n",
       "4   68        97         1  ...       2        2             1              2   \n",
       "\n",
       "   CARDIOVASCULAR  OBESITY  RENAL_CHRONIC  TOBACCO  CLASIFFICATION_FINAL  ICU  \n",
       "0               2        2              2        2                     3   97  \n",
       "1               2        1              1        2                     5   97  \n",
       "2               2        2              2        2                     3    2  \n",
       "3               2        2              2        2                     7   97  \n",
       "4               2        2              2        2                     3   97  \n",
       "\n",
       "[5 rows x 21 columns]"
      ]
     },
     "execution_count": 3,
     "metadata": {},
     "output_type": "execute_result"
    }
   ],
   "source": [
    "covid.head()"
   ]
  },
  {
   "cell_type": "code",
   "execution_count": 4,
   "id": "eb43d4f5",
   "metadata": {},
   "outputs": [
    {
     "name": "stdout",
     "output_type": "stream",
     "text": [
      "<class 'pandas.core.frame.DataFrame'>\n",
      "RangeIndex: 1048575 entries, 0 to 1048574\n",
      "Data columns (total 21 columns):\n",
      " #   Column                Non-Null Count    Dtype \n",
      "---  ------                --------------    ----- \n",
      " 0   USMER                 1048575 non-null  int64 \n",
      " 1   MEDICAL_UNIT          1048575 non-null  int64 \n",
      " 2   SEX                   1048575 non-null  int64 \n",
      " 3   PATIENT_TYPE          1048575 non-null  int64 \n",
      " 4   DATE_DIED             1048575 non-null  object\n",
      " 5   INTUBED               1048575 non-null  int64 \n",
      " 6   PNEUMONIA             1048575 non-null  int64 \n",
      " 7   AGE                   1048575 non-null  int64 \n",
      " 8   PREGNANT              1048575 non-null  int64 \n",
      " 9   DIABETES              1048575 non-null  int64 \n",
      " 10  COPD                  1048575 non-null  int64 \n",
      " 11  ASTHMA                1048575 non-null  int64 \n",
      " 12  INMSUPR               1048575 non-null  int64 \n",
      " 13  HIPERTENSION          1048575 non-null  int64 \n",
      " 14  OTHER_DISEASE         1048575 non-null  int64 \n",
      " 15  CARDIOVASCULAR        1048575 non-null  int64 \n",
      " 16  OBESITY               1048575 non-null  int64 \n",
      " 17  RENAL_CHRONIC         1048575 non-null  int64 \n",
      " 18  TOBACCO               1048575 non-null  int64 \n",
      " 19  CLASIFFICATION_FINAL  1048575 non-null  int64 \n",
      " 20  ICU                   1048575 non-null  int64 \n",
      "dtypes: int64(20), object(1)\n",
      "memory usage: 168.0+ MB\n"
     ]
    }
   ],
   "source": [
    "covid.info()"
   ]
  },
  {
   "cell_type": "code",
   "execution_count": 5,
   "id": "9b5cd5f0",
   "metadata": {},
   "outputs": [],
   "source": [
    "# This is a small function to replace the Nan valeus in the dataset. Sometimes the nan values are in the different form.\n",
    "def replaceToNan(Dataset,entry):\n",
    "    for col in Dataset.columns:\n",
    "        Dataset[col].replace({entry:np.nan}, inplace=True)"
   ]
  },
  {
   "cell_type": "code",
   "execution_count": 6,
   "id": "83572842",
   "metadata": {},
   "outputs": [
    {
     "data": {
      "text/plain": [
       "<seaborn.axisgrid.FacetGrid at 0x26ac6c8e790>"
      ]
     },
     "execution_count": 6,
     "metadata": {},
     "output_type": "execute_result"
    },
    {
     "data": {
      "image/png": "[encoded data removed]",
      "text/plain": [
       "<Figure size 360x360 with 1 Axes>"
      ]
     },
     "metadata": {
      "needs_background": "light"
     },
     "output_type": "display_data"
    }
   ],
   "source": [
    "sns.displot(covid, x=\"AGE\", binwidth=5, bins=20)"
   ]
  },
  {
   "cell_type": "markdown",
   "id": "f02a5cd4",
   "metadata": {},
   "source": [
    "From the above distribution we can see that the average age of the patient was almost 40 years old."
   ]
  },
  {
   "cell_type": "code",
   "execution_count": 7,
   "id": "a593d88f",
   "metadata": {},
   "outputs": [
    {
     "data": {
      "text/plain": [
       "<AxesSubplot: xlabel='SEX', ylabel='count'>"
      ]
     },
     "execution_count": 7,
     "metadata": {},
     "output_type": "execute_result"
    },
    {
     "data": {
      "image/png": "[encoded data removed]",
      "text/plain": [
       "<Figure size 432x288 with 1 Axes>"
      ]
     },
     "metadata": {
      "needs_background": "light"
     },
     "output_type": "display_data"
    }
   ],
   "source": [
    "sns.countplot(x='SEX', data=covid)"
   ]
  },
  {
   "cell_type": "code",
   "execution_count": 8,
   "id": "a2f139e4",
   "metadata": {},
   "outputs": [
    {
     "data": {
      "text/plain": [
       "1    525064\n",
       "2    523511\n",
       "Name: SEX, dtype: int64"
      ]
     },
     "execution_count": 8,
     "metadata": {},
     "output_type": "execute_result"
    }
   ],
   "source": [
    "covid['SEX'].value_counts()"
   ]
  },
  {
   "cell_type": "markdown",
   "id": "6e11521b",
   "metadata": {},
   "source": [
    "In this dataset the label 1 is for FEMALE while the 2 is for MALE. \n",
    "The total number of MALE and FEMALE are almost equal. "
   ]
  },
  {
   "cell_type": "code",
   "execution_count": 9,
   "id": "4870af4a",
   "metadata": {},
   "outputs": [
    {
     "data": {
      "text/html": [
       "<div>\n",
       "<style scoped>\n",
       "    .dataframe tbody tr th:only-of-type {\n",
       "        vertical-align: middle;\n",
       "    }\n",
       "\n",
       "    .dataframe tbody tr th {\n",
       "        vertical-align: top;\n",
       "    }\n",
       "\n",
       "    .dataframe thead th {\n",
       "        text-align: right;\n",
       "    }\n",
       "</style>\n",
       "<table border=\"1\" class=\"dataframe\">\n",
       "  <thead>\n",
       "    <tr style=\"text-align: right;\">\n",
       "      <th></th>\n",
       "      <th>SEX</th>\n",
       "      <th>ASTHMA</th>\n",
       "      <th>0</th>\n",
       "    </tr>\n",
       "  </thead>\n",
       "  <tbody>\n",
       "    <tr>\n",
       "      <th>0</th>\n",
       "      <td>1</td>\n",
       "      <td>1</td>\n",
       "      <td>19764</td>\n",
       "    </tr>\n",
       "    <tr>\n",
       "      <th>1</th>\n",
       "      <td>1</td>\n",
       "      <td>2</td>\n",
       "      <td>504058</td>\n",
       "    </tr>\n",
       "    <tr>\n",
       "      <th>2</th>\n",
       "      <td>1</td>\n",
       "      <td>98</td>\n",
       "      <td>1242</td>\n",
       "    </tr>\n",
       "    <tr>\n",
       "      <th>3</th>\n",
       "      <td>2</td>\n",
       "      <td>1</td>\n",
       "      <td>11808</td>\n",
       "    </tr>\n",
       "    <tr>\n",
       "      <th>4</th>\n",
       "      <td>2</td>\n",
       "      <td>2</td>\n",
       "      <td>509966</td>\n",
       "    </tr>\n",
       "    <tr>\n",
       "      <th>5</th>\n",
       "      <td>2</td>\n",
       "      <td>98</td>\n",
       "      <td>1737</td>\n",
       "    </tr>\n",
       "  </tbody>\n",
       "</table>\n",
       "</div>"
      ],
      "text/plain": [
       "   SEX  ASTHMA       0\n",
       "0    1       1   19764\n",
       "1    1       2  504058\n",
       "2    1      98    1242\n",
       "3    2       1   11808\n",
       "4    2       2  509966\n",
       "5    2      98    1737"
      ]
     },
     "execution_count": 9,
     "metadata": {},
     "output_type": "execute_result"
    }
   ],
   "source": [
    "covid.groupby(['SEX','ASTHMA']).size().reset_index()"
   ]
  },
  {
   "cell_type": "markdown",
   "id": "efb3f6a2",
   "metadata": {},
   "source": [
    "So in dataset 1 means \"yes\" and 2 means \"no\" except for SEX column. and 98 refers to a missing values."
   ]
  },
  {
   "cell_type": "code",
   "execution_count": 10,
   "id": "ae990bec",
   "metadata": {},
   "outputs": [
    {
     "data": {
      "text/plain": [
       "<AxesSubplot: xlabel='PATIENT_TYPE', ylabel='count'>"
      ]
     },
     "execution_count": 10,
     "metadata": {},
     "output_type": "execute_result"
    },
    {
     "data": {
      "image/png": "[encoded data removed]",
      "text/plain": [
       "<Figure size 432x288 with 1 Axes>"
      ]
     },
     "metadata": {
      "needs_background": "light"
     },
     "output_type": "display_data"
    }
   ],
   "source": [
    "sns.countplot(x='PATIENT_TYPE', data=covid, palette = \"rocket\")"
   ]
  },
  {
   "cell_type": "code",
   "execution_count": 11,
   "id": "a43872f1",
   "metadata": {},
   "outputs": [
    {
     "data": {
      "text/plain": [
       "1    848544\n",
       "2    200031\n",
       "Name: PATIENT_TYPE, dtype: int64"
      ]
     },
     "execution_count": 11,
     "metadata": {},
     "output_type": "execute_result"
    }
   ],
   "source": [
    "covid['PATIENT_TYPE'].value_counts()"
   ]
  },
  {
   "cell_type": "code",
   "execution_count": 12,
   "id": "990f7759",
   "metadata": {},
   "outputs": [
    {
     "data": {
      "text/plain": [
       "1    80.923539\n",
       "2    19.076461\n",
       "Name: PATIENT_TYPE, dtype: float64"
      ]
     },
     "execution_count": 12,
     "metadata": {},
     "output_type": "execute_result"
    }
   ],
   "source": [
    "patient_type_percent = (covid['PATIENT_TYPE'].value_counts()/len(covid['PATIENT_TYPE']))*100\n",
    "patient_type_percent"
   ]
  },
  {
   "cell_type": "markdown",
   "id": "c1644fd4",
   "metadata": {},
   "source": [
    "In PATIENT_TYPE 1 is considered as patient returned home and 2 is considered as hospitalized. We can see that 80\n",
    ".92 % of the patient retuered home, while only 19% Hospitalized."
   ]
  },
  {
   "cell_type": "code",
   "execution_count": 13,
   "id": "fbc24fb7",
   "metadata": {},
   "outputs": [
    {
     "data": {
      "text/plain": [
       "<AxesSubplot: xlabel='COPD', ylabel='count'>"
      ]
     },
     "execution_count": 13,
     "metadata": {},
     "output_type": "execute_result"
    },
    {
     "data": {
      "image/png": "[encoded data removed]",
      "text/plain": [
       "<Figure size 1080x720 with 6 Axes>"
      ]
     },
     "metadata": {
      "needs_background": "light"
     },
     "output_type": "display_data"
    }
   ],
   "source": [
    "fig = plt.figure(figsize = (15,10))\n",
    "\n",
    "ax1 = fig.add_subplot(2,3,1)\n",
    "sns.countplot(data = covid, x = 'ASTHMA', ax=ax1)\n",
    "#plt.ylim(0,1000000)\n",
    "\n",
    "ax2 = fig.add_subplot(2,3,2)\n",
    "sns.countplot(data = covid, x = 'HIPERTENSION', ax=ax2)\n",
    "\n",
    "ax3 = fig.add_subplot(2,3,3)\n",
    "sns.countplot(data = covid, x = 'CARDIOVASCULAR', ax=ax3)\n",
    "\n",
    "ax4 = fig.add_subplot(2,3,4)\n",
    "sns.countplot(data = covid, x = 'PNEUMONIA', ax=ax4)\n",
    "\n",
    "ax5 = fig.add_subplot(2,3,5)\n",
    "sns.countplot(data = covid, x = 'DIABETES', ax=ax5)\n",
    "\n",
    "ax6 = fig.add_subplot(2,3,6)\n",
    "sns.countplot(data = covid, x = 'COPD', ax=ax6)"
   ]
  },
  {
   "cell_type": "code",
   "execution_count": 14,
   "id": "bf6ea1e8",
   "metadata": {},
   "outputs": [
    {
     "data": {
      "text/plain": [
       "<AxesSubplot: xlabel='TOBACCO', ylabel='count'>"
      ]
     },
     "execution_count": 14,
     "metadata": {},
     "output_type": "execute_result"
    },
    {
     "data": {
      "image/png": "[encoded data removed]",
      "text/plain": [
       "<Figure size 1080x720 with 3 Axes>"
      ]
     },
     "metadata": {
      "needs_background": "light"
     },
     "output_type": "display_data"
    }
   ],
   "source": [
    "fig = plt.figure(figsize = (15,10))\n",
    "\n",
    "ax1 = fig.add_subplot(2,3,1)\n",
    "sns.countplot(data = covid, x = 'INMSUPR', ax=ax1)\n",
    "\n",
    "ax2 = fig.add_subplot(2,3,2)\n",
    "sns.countplot(data = covid, x = 'RENAL_CHRONIC', ax=ax2)\n",
    "\n",
    "ax3 = fig.add_subplot(2,3,3)\n",
    "sns.countplot(data = covid, x = 'TOBACCO', ax=ax3)"
   ]
  },
  {
   "cell_type": "markdown",
   "id": "27d25c90",
   "metadata": {},
   "source": [
    "Well according to the above plots we can see that most patients don't have any diseases. We can conclude from this that\n",
    "patients who didn't have any diseases were also effected by Covid19. "
   ]
  },
  {
   "cell_type": "markdown",
   "id": "b30128e2",
   "metadata": {},
   "source": [
    "lets create a new column of Date died.\n",
    "For this what we can do is create a function and create a column of categorical values."
   ]
  },
  {
   "cell_type": "code",
   "execution_count": 15,
   "id": "9fdb9d8c",
   "metadata": {},
   "outputs": [],
   "source": [
    "def died_column(row):\n",
    "    if row == \"9999-99-99\":\n",
    "        return 2\n",
    "    else:\n",
    "        return 1"
   ]
  },
  {
   "cell_type": "code",
   "execution_count": 16,
   "id": "97c5c569",
   "metadata": {},
   "outputs": [],
   "source": [
    "covid['DIED'] = covid.DATE_DIED.apply(died_column)"
   ]
  },
  {
   "cell_type": "code",
   "execution_count": 17,
   "id": "45f05b91",
   "metadata": {},
   "outputs": [
    {
     "data": {
      "text/html": [
       "<div>\n",
       "<style scoped>\n",
       "    .dataframe tbody tr th:only-of-type {\n",
       "        vertical-align: middle;\n",
       "    }\n",
       "\n",
       "    .dataframe tbody tr th {\n",
       "        vertical-align: top;\n",
       "    }\n",
       "\n",
       "    .dataframe thead th {\n",
       "        text-align: right;\n",
       "    }\n",
       "</style>\n",
       "<table border=\"1\" class=\"dataframe\">\n",
       "  <thead>\n",
       "    <tr style=\"text-align: right;\">\n",
       "      <th></th>\n",
       "      <th>USMER</th>\n",
       "      <th>MEDICAL_UNIT</th>\n",
       "      <th>SEX</th>\n",
       "      <th>PATIENT_TYPE</th>\n",
       "      <th>DATE_DIED</th>\n",
       "      <th>INTUBED</th>\n",
       "      <th>PNEUMONIA</th>\n",
       "      <th>AGE</th>\n",
       "      <th>PREGNANT</th>\n",
       "      <th>DIABETES</th>\n",
       "      <th>...</th>\n",
       "      <th>INMSUPR</th>\n",
       "      <th>HIPERTENSION</th>\n",
       "      <th>OTHER_DISEASE</th>\n",
       "      <th>CARDIOVASCULAR</th>\n",
       "      <th>OBESITY</th>\n",
       "      <th>RENAL_CHRONIC</th>\n",
       "      <th>TOBACCO</th>\n",
       "      <th>CLASIFFICATION_FINAL</th>\n",
       "      <th>ICU</th>\n",
       "      <th>DIED</th>\n",
       "    </tr>\n",
       "  </thead>\n",
       "  <tbody>\n",
       "    <tr>\n",
       "      <th>0</th>\n",
       "      <td>2</td>\n",
       "      <td>1</td>\n",
       "      <td>1</td>\n",
       "      <td>1</td>\n",
       "      <td>03-05-2020</td>\n",
       "      <td>97</td>\n",
       "      <td>1</td>\n",
       "      <td>65</td>\n",
       "      <td>2</td>\n",
       "      <td>2</td>\n",
       "      <td>...</td>\n",
       "      <td>2</td>\n",
       "      <td>1</td>\n",
       "      <td>2</td>\n",
       "      <td>2</td>\n",
       "      <td>2</td>\n",
       "      <td>2</td>\n",
       "      <td>2</td>\n",
       "      <td>3</td>\n",
       "      <td>97</td>\n",
       "      <td>1</td>\n",
       "    </tr>\n",
       "    <tr>\n",
       "      <th>1</th>\n",
       "      <td>2</td>\n",
       "      <td>1</td>\n",
       "      <td>2</td>\n",
       "      <td>1</td>\n",
       "      <td>03-06-2020</td>\n",
       "      <td>97</td>\n",
       "      <td>1</td>\n",
       "      <td>72</td>\n",
       "      <td>97</td>\n",
       "      <td>2</td>\n",
       "      <td>...</td>\n",
       "      <td>2</td>\n",
       "      <td>1</td>\n",
       "      <td>2</td>\n",
       "      <td>2</td>\n",
       "      <td>1</td>\n",
       "      <td>1</td>\n",
       "      <td>2</td>\n",
       "      <td>5</td>\n",
       "      <td>97</td>\n",
       "      <td>1</td>\n",
       "    </tr>\n",
       "    <tr>\n",
       "      <th>2</th>\n",
       "      <td>2</td>\n",
       "      <td>1</td>\n",
       "      <td>2</td>\n",
       "      <td>2</td>\n",
       "      <td>09-06-2020</td>\n",
       "      <td>1</td>\n",
       "      <td>2</td>\n",
       "      <td>55</td>\n",
       "      <td>97</td>\n",
       "      <td>1</td>\n",
       "      <td>...</td>\n",
       "      <td>2</td>\n",
       "      <td>2</td>\n",
       "      <td>2</td>\n",
       "      <td>2</td>\n",
       "      <td>2</td>\n",
       "      <td>2</td>\n",
       "      <td>2</td>\n",
       "      <td>3</td>\n",
       "      <td>2</td>\n",
       "      <td>1</td>\n",
       "    </tr>\n",
       "    <tr>\n",
       "      <th>3</th>\n",
       "      <td>2</td>\n",
       "      <td>1</td>\n",
       "      <td>1</td>\n",
       "      <td>1</td>\n",
       "      <td>12-06-2020</td>\n",
       "      <td>97</td>\n",
       "      <td>2</td>\n",
       "      <td>53</td>\n",
       "      <td>2</td>\n",
       "      <td>2</td>\n",
       "      <td>...</td>\n",
       "      <td>2</td>\n",
       "      <td>2</td>\n",
       "      <td>2</td>\n",
       "      <td>2</td>\n",
       "      <td>2</td>\n",
       "      <td>2</td>\n",
       "      <td>2</td>\n",
       "      <td>7</td>\n",
       "      <td>97</td>\n",
       "      <td>1</td>\n",
       "    </tr>\n",
       "    <tr>\n",
       "      <th>4</th>\n",
       "      <td>2</td>\n",
       "      <td>1</td>\n",
       "      <td>2</td>\n",
       "      <td>1</td>\n",
       "      <td>21-06-2020</td>\n",
       "      <td>97</td>\n",
       "      <td>2</td>\n",
       "      <td>68</td>\n",
       "      <td>97</td>\n",
       "      <td>1</td>\n",
       "      <td>...</td>\n",
       "      <td>2</td>\n",
       "      <td>1</td>\n",
       "      <td>2</td>\n",
       "      <td>2</td>\n",
       "      <td>2</td>\n",
       "      <td>2</td>\n",
       "      <td>2</td>\n",
       "      <td>3</td>\n",
       "      <td>97</td>\n",
       "      <td>1</td>\n",
       "    </tr>\n",
       "  </tbody>\n",
       "</table>\n",
       "<p>5 rows × 22 columns</p>\n",
       "</div>"
      ],
      "text/plain": [
       "   USMER  MEDICAL_UNIT  SEX  PATIENT_TYPE   DATE_DIED  INTUBED  PNEUMONIA  \\\n",
       "0      2             1    1             1  03-05-2020       97          1   \n",
       "1      2             1    2             1  03-06-2020       97          1   \n",
       "2      2             1    2             2  09-06-2020        1          2   \n",
       "3      2             1    1             1  12-06-2020       97          2   \n",
       "4      2             1    2             1  21-06-2020       97          2   \n",
       "\n",
       "   AGE  PREGNANT  DIABETES  ...  INMSUPR  HIPERTENSION  OTHER_DISEASE  \\\n",
       "0   65         2         2  ...        2             1              2   \n",
       "1   72        97         2  ...        2             1              2   \n",
       "2   55        97         1  ...        2             2              2   \n",
       "3   53         2         2  ...        2             2              2   \n",
       "4   68        97         1  ...        2             1              2   \n",
       "\n",
       "   CARDIOVASCULAR  OBESITY  RENAL_CHRONIC  TOBACCO  CLASIFFICATION_FINAL  ICU  \\\n",
       "0               2        2              2        2                     3   97   \n",
       "1               2        1              1        2                     5   97   \n",
       "2               2        2              2        2                     3    2   \n",
       "3               2        2              2        2                     7   97   \n",
       "4               2        2              2        2                     3   97   \n",
       "\n",
       "   DIED  \n",
       "0     1  \n",
       "1     1  \n",
       "2     1  \n",
       "3     1  \n",
       "4     1  \n",
       "\n",
       "[5 rows x 22 columns]"
      ]
     },
     "execution_count": 17,
     "metadata": {},
     "output_type": "execute_result"
    }
   ],
   "source": [
    "covid.head(5)"
   ]
  },
  {
   "cell_type": "code",
   "execution_count": 18,
   "id": "a004d69f",
   "metadata": {},
   "outputs": [],
   "source": [
    "covid.drop(\"DATE_DIED\", axis=1,inplace=True)"
   ]
  },
  {
   "cell_type": "code",
   "execution_count": 19,
   "id": "bdf3bdf6",
   "metadata": {},
   "outputs": [
    {
     "data": {
      "text/html": [
       "<div>\n",
       "<style scoped>\n",
       "    .dataframe tbody tr th:only-of-type {\n",
       "        vertical-align: middle;\n",
       "    }\n",
       "\n",
       "    .dataframe tbody tr th {\n",
       "        vertical-align: top;\n",
       "    }\n",
       "\n",
       "    .dataframe thead th {\n",
       "        text-align: right;\n",
       "    }\n",
       "</style>\n",
       "<table border=\"1\" class=\"dataframe\">\n",
       "  <thead>\n",
       "    <tr style=\"text-align: right;\">\n",
       "      <th></th>\n",
       "      <th>USMER</th>\n",
       "      <th>MEDICAL_UNIT</th>\n",
       "      <th>SEX</th>\n",
       "      <th>PATIENT_TYPE</th>\n",
       "      <th>INTUBED</th>\n",
       "      <th>PNEUMONIA</th>\n",
       "      <th>AGE</th>\n",
       "      <th>PREGNANT</th>\n",
       "      <th>DIABETES</th>\n",
       "      <th>COPD</th>\n",
       "      <th>...</th>\n",
       "      <th>INMSUPR</th>\n",
       "      <th>HIPERTENSION</th>\n",
       "      <th>OTHER_DISEASE</th>\n",
       "      <th>CARDIOVASCULAR</th>\n",
       "      <th>OBESITY</th>\n",
       "      <th>RENAL_CHRONIC</th>\n",
       "      <th>TOBACCO</th>\n",
       "      <th>CLASIFFICATION_FINAL</th>\n",
       "      <th>ICU</th>\n",
       "      <th>DIED</th>\n",
       "    </tr>\n",
       "  </thead>\n",
       "  <tbody>\n",
       "    <tr>\n",
       "      <th>0</th>\n",
       "      <td>2</td>\n",
       "      <td>1</td>\n",
       "      <td>1</td>\n",
       "      <td>1</td>\n",
       "      <td>97</td>\n",
       "      <td>1</td>\n",
       "      <td>65</td>\n",
       "      <td>2</td>\n",
       "      <td>2</td>\n",
       "      <td>2</td>\n",
       "      <td>...</td>\n",
       "      <td>2</td>\n",
       "      <td>1</td>\n",
       "      <td>2</td>\n",
       "      <td>2</td>\n",
       "      <td>2</td>\n",
       "      <td>2</td>\n",
       "      <td>2</td>\n",
       "      <td>3</td>\n",
       "      <td>97</td>\n",
       "      <td>1</td>\n",
       "    </tr>\n",
       "    <tr>\n",
       "      <th>1</th>\n",
       "      <td>2</td>\n",
       "      <td>1</td>\n",
       "      <td>2</td>\n",
       "      <td>1</td>\n",
       "      <td>97</td>\n",
       "      <td>1</td>\n",
       "      <td>72</td>\n",
       "      <td>97</td>\n",
       "      <td>2</td>\n",
       "      <td>2</td>\n",
       "      <td>...</td>\n",
       "      <td>2</td>\n",
       "      <td>1</td>\n",
       "      <td>2</td>\n",
       "      <td>2</td>\n",
       "      <td>1</td>\n",
       "      <td>1</td>\n",
       "      <td>2</td>\n",
       "      <td>5</td>\n",
       "      <td>97</td>\n",
       "      <td>1</td>\n",
       "    </tr>\n",
       "    <tr>\n",
       "      <th>2</th>\n",
       "      <td>2</td>\n",
       "      <td>1</td>\n",
       "      <td>2</td>\n",
       "      <td>2</td>\n",
       "      <td>1</td>\n",
       "      <td>2</td>\n",
       "      <td>55</td>\n",
       "      <td>97</td>\n",
       "      <td>1</td>\n",
       "      <td>2</td>\n",
       "      <td>...</td>\n",
       "      <td>2</td>\n",
       "      <td>2</td>\n",
       "      <td>2</td>\n",
       "      <td>2</td>\n",
       "      <td>2</td>\n",
       "      <td>2</td>\n",
       "      <td>2</td>\n",
       "      <td>3</td>\n",
       "      <td>2</td>\n",
       "      <td>1</td>\n",
       "    </tr>\n",
       "    <tr>\n",
       "      <th>3</th>\n",
       "      <td>2</td>\n",
       "      <td>1</td>\n",
       "      <td>1</td>\n",
       "      <td>1</td>\n",
       "      <td>97</td>\n",
       "      <td>2</td>\n",
       "      <td>53</td>\n",
       "      <td>2</td>\n",
       "      <td>2</td>\n",
       "      <td>2</td>\n",
       "      <td>...</td>\n",
       "      <td>2</td>\n",
       "      <td>2</td>\n",
       "      <td>2</td>\n",
       "      <td>2</td>\n",
       "      <td>2</td>\n",
       "      <td>2</td>\n",
       "      <td>2</td>\n",
       "      <td>7</td>\n",
       "      <td>97</td>\n",
       "      <td>1</td>\n",
       "    </tr>\n",
       "    <tr>\n",
       "      <th>4</th>\n",
       "      <td>2</td>\n",
       "      <td>1</td>\n",
       "      <td>2</td>\n",
       "      <td>1</td>\n",
       "      <td>97</td>\n",
       "      <td>2</td>\n",
       "      <td>68</td>\n",
       "      <td>97</td>\n",
       "      <td>1</td>\n",
       "      <td>2</td>\n",
       "      <td>...</td>\n",
       "      <td>2</td>\n",
       "      <td>1</td>\n",
       "      <td>2</td>\n",
       "      <td>2</td>\n",
       "      <td>2</td>\n",
       "      <td>2</td>\n",
       "      <td>2</td>\n",
       "      <td>3</td>\n",
       "      <td>97</td>\n",
       "      <td>1</td>\n",
       "    </tr>\n",
       "  </tbody>\n",
       "</table>\n",
       "<p>5 rows × 21 columns</p>\n",
       "</div>"
      ],
      "text/plain": [
       "   USMER  MEDICAL_UNIT  SEX  PATIENT_TYPE  INTUBED  PNEUMONIA  AGE  PREGNANT  \\\n",
       "0      2             1    1             1       97          1   65         2   \n",
       "1      2             1    2             1       97          1   72        97   \n",
       "2      2             1    2             2        1          2   55        97   \n",
       "3      2             1    1             1       97          2   53         2   \n",
       "4      2             1    2             1       97          2   68        97   \n",
       "\n",
       "   DIABETES  COPD  ...  INMSUPR  HIPERTENSION  OTHER_DISEASE  CARDIOVASCULAR  \\\n",
       "0         2     2  ...        2             1              2               2   \n",
       "1         2     2  ...        2             1              2               2   \n",
       "2         1     2  ...        2             2              2               2   \n",
       "3         2     2  ...        2             2              2               2   \n",
       "4         1     2  ...        2             1              2               2   \n",
       "\n",
       "   OBESITY  RENAL_CHRONIC  TOBACCO  CLASIFFICATION_FINAL  ICU  DIED  \n",
       "0        2              2        2                     3   97     1  \n",
       "1        1              1        2                     5   97     1  \n",
       "2        2              2        2                     3    2     1  \n",
       "3        2              2        2                     7   97     1  \n",
       "4        2              2        2                     3   97     1  \n",
       "\n",
       "[5 rows x 21 columns]"
      ]
     },
     "execution_count": 19,
     "metadata": {},
     "output_type": "execute_result"
    }
   ],
   "source": [
    "covid.head(5)"
   ]
  },
  {
   "cell_type": "code",
   "execution_count": 20,
   "id": "71f5cc62",
   "metadata": {},
   "outputs": [
    {
     "data": {
      "text/plain": [
       "<AxesSubplot: xlabel='DIED', ylabel='count'>"
      ]
     },
     "execution_count": 20,
     "metadata": {},
     "output_type": "execute_result"
    },
    {
     "data": {
      "image/png": "[encoded data removed]",
      "text/plain": [
       "<Figure size 432x288 with 1 Axes>"
      ]
     },
     "metadata": {
      "needs_background": "light"
     },
     "output_type": "display_data"
    }
   ],
   "source": [
    "sns.countplot(x='DIED', data=covid, palette = \"deep\")"
   ]
  },
  {
   "cell_type": "code",
   "execution_count": 21,
   "id": "6869f4b9",
   "metadata": {},
   "outputs": [
    {
     "data": {
      "image/png": "[encoded data removed]",
      "text/plain": [
       "<Figure size 504x504 with 1 Axes>"
      ]
     },
     "metadata": {},
     "output_type": "display_data"
    }
   ],
   "source": [
    "fig, ax = plt.subplots(figsize=(7,7))\n",
    "\n",
    "ax.pie(covid.DIED.value_counts().values, labels=['not died','died'], autopct='%1.1f%%',startangle=0, \n",
    "       textprops={'fontsize': 16}, wedgeprops={'edgecolor': '#fff'}, colors=['#6495ED', '#F27272']\n",
    ")\n",
    "ax.set_title('Death Distribution', fontsize=20, color='red')\n",
    "plt.show()"
   ]
  },
  {
   "cell_type": "markdown",
   "id": "6519b245",
   "metadata": {},
   "source": [
    "We can see that almost 92.7% of the people didn't died due to this disease. "
   ]
  },
  {
   "cell_type": "code",
   "execution_count": 22,
   "id": "ff7d9630",
   "metadata": {},
   "outputs": [
    {
     "data": {
      "text/plain": [
       "([<matplotlib.axis.XTick at 0x26a8009c250>,\n",
       "  <matplotlib.axis.XTick at 0x26a8009c370>],\n",
       " [Text(0, 0, 'died'), Text(1, 0, 'not died')])"
      ]
     },
     "execution_count": 22,
     "metadata": {},
     "output_type": "execute_result"
    },
    {
     "data": {
      "image/png": "[encoded data removed]",
      "text/plain": [
       "<Figure size 504x504 with 1 Axes>"
      ]
     },
     "metadata": {
      "needs_background": "light"
     },
     "output_type": "display_data"
    }
   ],
   "source": [
    "plt.figure(figsize=(7,7))\n",
    "sns.boxplot(data=covid, x=\"DIED\", y=\"AGE\")\n",
    "plt.title(\"Death X Age\", color='red', fontsize=20)\n",
    "plt.xlabel(None)\n",
    "plt.ylabel('AGE', fontsize=14)\n",
    "plt.tick_params(bottom = False)\n",
    "plt.xticks([0,1], ['died','not died'], fontsize=14)"
   ]
  },
  {
   "cell_type": "markdown",
   "id": "7d63f117",
   "metadata": {},
   "source": [
    "From the above boxplot we can say that, death is more concentrated in older people as thay are more likely to get \n",
    "affected by some diseases very quickly. Older age people are more vulnerable to diseases as they have weak immune system. "
   ]
  },
  {
   "cell_type": "code",
   "execution_count": 23,
   "id": "31f9c5c8",
   "metadata": {},
   "outputs": [
    {
     "data": {
      "text/plain": [
       "([<matplotlib.axis.XTick at 0x26a8012e760>,\n",
       "  <matplotlib.axis.XTick at 0x26a8012e730>,\n",
       "  <matplotlib.axis.XTick at 0x26a8015d490>],\n",
       " [Text(0, 0, 'consumes'), Text(1, 0, 'not consumes'), Text(2, 0, 'missing')])"
      ]
     },
     "execution_count": 23,
     "metadata": {},
     "output_type": "execute_result"
    },
    {
     "data": {
      "image/png": "[encoded data removed]",
      "text/plain": [
       "<Figure size 504x504 with 1 Axes>"
      ]
     },
     "metadata": {
      "needs_background": "light"
     },
     "output_type": "display_data"
    }
   ],
   "source": [
    "plt.figure(figsize=(7,7))\n",
    "sns.boxplot(data=covid, x=\"TOBACCO\", y=\"AGE\")\n",
    "plt.title(\"Tobacco X Age\", color='red', fontsize=20)\n",
    "plt.xlabel(None)\n",
    "plt.ylabel('AGE', fontsize=14)\n",
    "plt.tick_params(bottom = False)\n",
    "plt.xticks([0,1,2], ['consumes','not consumes','missing'], fontsize=14)"
   ]
  },
  {
   "cell_type": "markdown",
   "id": "c69e4c09",
   "metadata": {},
   "source": [
    "We from the above plot we can say that the most of the tobacco consumers are in the age, let's say between 30 to 50.\n",
    "The median age of the tobacco consumer is almost 40 years old. The feature Tobacco consumption is really important as \n",
    "it dictates their overall lung health. It plays really important role in how good are the lungs of a particular person. \n",
    "Also Covid19 is also associated with the lungs overall health. "
   ]
  },
  {
   "cell_type": "markdown",
   "id": "dc195551",
   "metadata": {},
   "source": [
    "In the EDA we came to understand that there are null values in some features, We will do some Data Preprocessing to clean \n",
    "this data filter out the null values"
   ]
  },
  {
   "cell_type": "code",
   "execution_count": 24,
   "id": "5cbbcc73",
   "metadata": {},
   "outputs": [
    {
     "name": "stdout",
     "output_type": "stream",
     "text": [
      "USMER\n",
      "0\n",
      "0\n",
      "0\n",
      "\n",
      "MEDICAL_UNIT\n",
      "0\n",
      "0\n",
      "0\n",
      "\n",
      "SEX\n",
      "0\n",
      "0\n",
      "0\n",
      "\n",
      "PATIENT_TYPE\n",
      "0\n",
      "0\n",
      "0\n",
      "\n",
      "INTUBED\n",
      "848544\n",
      "0\n",
      "7325\n",
      "\n",
      "PNEUMONIA\n",
      "0\n",
      "0\n",
      "16003\n",
      "\n",
      "AGE\n",
      "135\n",
      "124\n",
      "86\n",
      "\n",
      "PREGNANT\n",
      "523511\n",
      "3754\n",
      "0\n",
      "\n",
      "DIABETES\n",
      "0\n",
      "3338\n",
      "0\n",
      "\n",
      "COPD\n",
      "0\n",
      "3003\n",
      "0\n",
      "\n",
      "ASTHMA\n",
      "0\n",
      "2979\n",
      "0\n",
      "\n",
      "INMSUPR\n",
      "0\n",
      "3404\n",
      "0\n",
      "\n",
      "HIPERTENSION\n",
      "0\n",
      "3104\n",
      "0\n",
      "\n",
      "OTHER_DISEASE\n",
      "0\n",
      "5045\n",
      "0\n",
      "\n",
      "CARDIOVASCULAR\n",
      "0\n",
      "3076\n",
      "0\n",
      "\n",
      "OBESITY\n",
      "0\n",
      "3032\n",
      "0\n",
      "\n",
      "RENAL_CHRONIC\n",
      "0\n",
      "3006\n",
      "0\n",
      "\n",
      "TOBACCO\n",
      "0\n",
      "3220\n",
      "0\n",
      "\n",
      "CLASIFFICATION_FINAL\n",
      "0\n",
      "0\n",
      "0\n",
      "\n",
      "ICU\n",
      "848544\n",
      "0\n",
      "7488\n",
      "\n",
      "DIED\n",
      "0\n",
      "0\n",
      "0\n",
      "\n"
     ]
    }
   ],
   "source": [
    "# checking the null values- \n",
    "for col in covid.columns:\n",
    "    print(col)\n",
    "    print(covid.loc[covid[col] == 97, col].count())\n",
    "    print(covid.loc[covid[col] == 98, col].count())\n",
    "    print(covid.loc[covid[col] == 99, col].count())\n",
    "    print()"
   ]
  },
  {
   "cell_type": "code",
   "execution_count": 25,
   "id": "18c9c485",
   "metadata": {},
   "outputs": [
    {
     "data": {
      "text/plain": [
       "PREGNANT  SEX\n",
       "1         1        8131\n",
       "2         1      513179\n",
       "97        2      523511\n",
       "98        1        3754\n",
       "Name: SEX, dtype: int64"
      ]
     },
     "execution_count": 25,
     "metadata": {},
     "output_type": "execute_result"
    }
   ],
   "source": [
    "covid.groupby(['PREGNANT','SEX'])['SEX'].count()"
   ]
  },
  {
   "cell_type": "markdown",
   "id": "8e5b251c",
   "metadata": {},
   "source": [
    "we can see that most of the missing values are having a gender MALE, so what we can do is to impute those values."
   ]
  },
  {
   "cell_type": "code",
   "execution_count": 26,
   "id": "90d993f1",
   "metadata": {},
   "outputs": [],
   "source": [
    "covid.PREGNANT = covid.PREGNANT.replace(97,2)"
   ]
  },
  {
   "cell_type": "code",
   "execution_count": 27,
   "id": "75015d28",
   "metadata": {},
   "outputs": [
    {
     "data": {
      "text/plain": [
       "2     1036690\n",
       "1        8131\n",
       "98       3754\n",
       "Name: PREGNANT, dtype: int64"
      ]
     },
     "execution_count": 27,
     "metadata": {},
     "output_type": "execute_result"
    }
   ],
   "source": [
    "covid.PREGNANT.value_counts()"
   ]
  },
  {
   "cell_type": "markdown",
   "id": "6bb80e38",
   "metadata": {},
   "source": [
    "We can see that there are some null values in every feature, what we will be doing is, removing those null columns as \n",
    "they are relatively small as compared to size of Dataset."
   ]
  },
  {
   "cell_type": "code",
   "execution_count": 28,
   "id": "6436fd3f",
   "metadata": {},
   "outputs": [],
   "source": [
    "covid.drop(covid.index[covid.PNEUMONIA == 99], axis=0, inplace=True)\n",
    "covid.drop(covid.index[covid.PREGNANT == 98], axis=0, inplace=True)\n",
    "covid.drop(covid.index[covid.DIABETES == 98], axis=0, inplace=True)\n",
    "covid.drop(covid.index[covid.COPD == 98], axis=0, inplace=True)\n",
    "covid.drop(covid.index[covid.ASTHMA == 98], axis=0, inplace=True)\n",
    "covid.drop(covid.index[covid.INMSUPR == 98], axis=0, inplace=True)\n",
    "covid.drop(covid.index[covid.OTHER_DISEASE == 98], axis=0, inplace=True)\n",
    "covid.drop(covid.index[covid.CARDIOVASCULAR == 98], axis=0, inplace=True)\n",
    "covid.drop(covid.index[covid.OBESITY == 98], axis=0, inplace=True)\n",
    "covid.drop(covid.index[covid.RENAL_CHRONIC == 98], axis=0, inplace=True)\n",
    "covid.drop(covid.index[covid.TOBACCO == 98], axis=0, inplace=True)"
   ]
  },
  {
   "cell_type": "code",
   "execution_count": 29,
   "id": "3c62e0f9",
   "metadata": {},
   "outputs": [],
   "source": [
    "covid.drop(covid.index[covid.HIPERTENSION == 98], axis=0, inplace=True)"
   ]
  },
  {
   "cell_type": "markdown",
   "id": "3439cc09",
   "metadata": {},
   "source": [
    "We can also remove AGE null value rows as they are also relatively low with the dataset. "
   ]
  },
  {
   "cell_type": "code",
   "execution_count": 30,
   "id": "1f8a2d62",
   "metadata": {},
   "outputs": [],
   "source": [
    "covid.drop(covid.index[covid.AGE == 97], axis=0, inplace=True)\n",
    "covid.drop(covid.index[covid.AGE == 98], axis=0, inplace=True)\n",
    "covid.drop(covid.index[covid.AGE == 99], axis=0, inplace=True)"
   ]
  },
  {
   "cell_type": "markdown",
   "id": "7aefdb07",
   "metadata": {},
   "source": [
    "Lets see the missing value again. "
   ]
  },
  {
   "cell_type": "code",
   "execution_count": 31,
   "id": "b6ed9817",
   "metadata": {},
   "outputs": [
    {
     "name": "stdout",
     "output_type": "stream",
     "text": [
      "USMER\n",
      "0\n",
      "0\n",
      "0\n",
      "\n",
      "MEDICAL_UNIT\n",
      "0\n",
      "0\n",
      "0\n",
      "\n",
      "SEX\n",
      "0\n",
      "0\n",
      "0\n",
      "\n",
      "PATIENT_TYPE\n",
      "0\n",
      "0\n",
      "0\n",
      "\n",
      "INTUBED\n",
      "830233\n",
      "0\n",
      "2152\n",
      "\n",
      "PNEUMONIA\n",
      "0\n",
      "0\n",
      "0\n",
      "\n",
      "AGE\n",
      "0\n",
      "0\n",
      "0\n",
      "\n",
      "PREGNANT\n",
      "0\n",
      "0\n",
      "0\n",
      "\n",
      "DIABETES\n",
      "0\n",
      "0\n",
      "0\n",
      "\n",
      "COPD\n",
      "0\n",
      "0\n",
      "0\n",
      "\n",
      "ASTHMA\n",
      "0\n",
      "0\n",
      "0\n",
      "\n",
      "INMSUPR\n",
      "0\n",
      "0\n",
      "0\n",
      "\n",
      "HIPERTENSION\n",
      "0\n",
      "0\n",
      "0\n",
      "\n",
      "OTHER_DISEASE\n",
      "0\n",
      "0\n",
      "0\n",
      "\n",
      "CARDIOVASCULAR\n",
      "0\n",
      "0\n",
      "0\n",
      "\n",
      "OBESITY\n",
      "0\n",
      "0\n",
      "0\n",
      "\n",
      "RENAL_CHRONIC\n",
      "0\n",
      "0\n",
      "0\n",
      "\n",
      "TOBACCO\n",
      "0\n",
      "0\n",
      "0\n",
      "\n",
      "CLASIFFICATION_FINAL\n",
      "0\n",
      "0\n",
      "0\n",
      "\n",
      "ICU\n",
      "830233\n",
      "0\n",
      "2308\n",
      "\n",
      "DIED\n",
      "0\n",
      "0\n",
      "0\n",
      "\n"
     ]
    }
   ],
   "source": [
    "for col in covid.columns:\n",
    "    print(col)\n",
    "    print(covid.loc[covid[col] == 97, col].count())\n",
    "    print(covid.loc[covid[col] == 98, col].count())\n",
    "    print(covid.loc[covid[col] == 99, col].count())\n",
    "    print()"
   ]
  },
  {
   "cell_type": "markdown",
   "id": "fc244199",
   "metadata": {},
   "source": [
    "Most of the missing values have been dealt with. Now only 2 features are left which are INTUBED and ICU. We can check\n",
    "how important these 2 features are. Though they have large number of null values. INTUBED and ICU might be important for \n",
    "our problem statement, because since the patients who are in the ICU are on high risk of this disease."
   ]
  },
  {
   "cell_type": "code",
   "execution_count": 32,
   "id": "afcf2922",
   "metadata": {},
   "outputs": [
    {
     "data": {
      "text/plain": [
       "97    830233\n",
       "2     156300\n",
       "1      32970\n",
       "99      2152\n",
       "Name: INTUBED, dtype: int64"
      ]
     },
     "execution_count": 32,
     "metadata": {},
     "output_type": "execute_result"
    }
   ],
   "source": [
    "covid['INTUBED'].value_counts()"
   ]
  },
  {
   "cell_type": "code",
   "execution_count": 33,
   "id": "27ec1e66",
   "metadata": {},
   "outputs": [
    {
     "data": {
      "text/plain": [
       "97    830233\n",
       "2     172717\n",
       "1      16397\n",
       "99      2308\n",
       "Name: ICU, dtype: int64"
      ]
     },
     "execution_count": 33,
     "metadata": {},
     "output_type": "execute_result"
    }
   ],
   "source": [
    "covid['ICU'].value_counts()"
   ]
  },
  {
   "cell_type": "markdown",
   "id": "c7663a7c",
   "metadata": {},
   "source": [
    "What we can do is replace the values with most occuring values i.e. Mode values."
   ]
  },
  {
   "cell_type": "code",
   "execution_count": 34,
   "id": "478d4fdb",
   "metadata": {},
   "outputs": [],
   "source": [
    "covid.INTUBED = covid.INTUBED.replace(97,2)"
   ]
  },
  {
   "cell_type": "code",
   "execution_count": 35,
   "id": "c6d21120",
   "metadata": {},
   "outputs": [],
   "source": [
    "covid.INTUBED = covid.INTUBED.replace(99,2)"
   ]
  },
  {
   "cell_type": "code",
   "execution_count": 36,
   "id": "8dac49c0",
   "metadata": {},
   "outputs": [],
   "source": [
    "covid.ICU = covid.ICU.replace(97,2)"
   ]
  },
  {
   "cell_type": "code",
   "execution_count": 37,
   "id": "2945aeda",
   "metadata": {},
   "outputs": [],
   "source": [
    "covid.ICU = covid.ICU.replace(99,2)"
   ]
  },
  {
   "cell_type": "code",
   "execution_count": 38,
   "id": "d1dada24",
   "metadata": {},
   "outputs": [
    {
     "name": "stdout",
     "output_type": "stream",
     "text": [
      "USMER\n",
      "0\n",
      "0\n",
      "0\n",
      "\n",
      "MEDICAL_UNIT\n",
      "0\n",
      "0\n",
      "0\n",
      "\n",
      "SEX\n",
      "0\n",
      "0\n",
      "0\n",
      "\n",
      "PATIENT_TYPE\n",
      "0\n",
      "0\n",
      "0\n",
      "\n",
      "INTUBED\n",
      "0\n",
      "0\n",
      "0\n",
      "\n",
      "PNEUMONIA\n",
      "0\n",
      "0\n",
      "0\n",
      "\n",
      "AGE\n",
      "0\n",
      "0\n",
      "0\n",
      "\n",
      "PREGNANT\n",
      "0\n",
      "0\n",
      "0\n",
      "\n",
      "DIABETES\n",
      "0\n",
      "0\n",
      "0\n",
      "\n",
      "COPD\n",
      "0\n",
      "0\n",
      "0\n",
      "\n",
      "ASTHMA\n",
      "0\n",
      "0\n",
      "0\n",
      "\n",
      "INMSUPR\n",
      "0\n",
      "0\n",
      "0\n",
      "\n",
      "HIPERTENSION\n",
      "0\n",
      "0\n",
      "0\n",
      "\n",
      "OTHER_DISEASE\n",
      "0\n",
      "0\n",
      "0\n",
      "\n",
      "CARDIOVASCULAR\n",
      "0\n",
      "0\n",
      "0\n",
      "\n",
      "OBESITY\n",
      "0\n",
      "0\n",
      "0\n",
      "\n",
      "RENAL_CHRONIC\n",
      "0\n",
      "0\n",
      "0\n",
      "\n",
      "TOBACCO\n",
      "0\n",
      "0\n",
      "0\n",
      "\n",
      "CLASIFFICATION_FINAL\n",
      "0\n",
      "0\n",
      "0\n",
      "\n",
      "ICU\n",
      "0\n",
      "0\n",
      "0\n",
      "\n",
      "DIED\n",
      "0\n",
      "0\n",
      "0\n",
      "\n"
     ]
    }
   ],
   "source": [
    "for col in covid.columns:\n",
    "    print(col)\n",
    "    print(covid.loc[covid[col] == 97, col].count())\n",
    "    print(covid.loc[covid[col] == 98, col].count())\n",
    "    print(covid.loc[covid[col] == 99, col].count())\n",
    "    print()"
   ]
  },
  {
   "cell_type": "markdown",
   "id": "e2c1716e",
   "metadata": {},
   "source": [
    "# Thank You"
   ]
  },
  {
   "cell_type": "code",
   "execution_count": null,
   "id": "db6f3c53",
   "metadata": {},
   "outputs": [],
   "source": []
  }
 ],
 "metadata": {
  "kernelspec": {
   "display_name": "Python 3 (ipykernel)",
   "language": "python",
   "name": "python3"
  },
  "language_info": {
   "codemirror_mode": {
    "name": "ipython",
    "version": 3
   },
   "file_extension": ".py",
   "mimetype": "text/x-python",
   "name": "python",
   "nbconvert_exporter": "python",
   "pygments_lexer": "ipython3",
   "version": "3.9.7"
  }
 },
 "nbformat": 4,
 "nbformat_minor": 5
}
